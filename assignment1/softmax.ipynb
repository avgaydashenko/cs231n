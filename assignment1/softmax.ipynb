{
 "cells": [
  {
   "cell_type": "markdown",
   "metadata": {},
   "source": [
    "# Softmax exercise\n",
    "\n",
    "*Complete and hand in this completed worksheet (including its outputs and any supporting code outside of the worksheet) with your assignment submission. For more details see the [assignments page](http://vision.stanford.edu/teaching/cs231n/assignments.html) on the course website.*\n",
    "\n",
    "This exercise is analogous to the SVM exercise. You will:\n",
    "\n",
    "- implement a fully-vectorized **loss function** for the Softmax classifier\n",
    "- implement the fully-vectorized expression for its **analytic gradient**\n",
    "- **check your implementation** with numerical gradient\n",
    "- use a validation set to **tune the learning rate and regularization** strength\n",
    "- **optimize** the loss function with **SGD**\n",
    "- **visualize** the final learned weights\n"
   ]
  },
  {
   "cell_type": "code",
   "execution_count": 1,
   "metadata": {},
   "outputs": [],
   "source": [
    "from __future__ import print_function\n",
    "\n",
    "import random\n",
    "import numpy as np\n",
    "from cs231n.data_utils import load_CIFAR10\n",
    "import matplotlib.pyplot as plt\n",
    "\n",
    "%matplotlib inline\n",
    "plt.rcParams['figure.figsize'] = (10.0, 8.0) # set default size of plots\n",
    "plt.rcParams['image.interpolation'] = 'nearest'\n",
    "plt.rcParams['image.cmap'] = 'gray'\n",
    "\n",
    "# for auto-reloading extenrnal modules\n",
    "# see http://stackoverflow.com/questions/1907993/autoreload-of-modules-in-ipython\n",
    "%load_ext autoreload\n",
    "%autoreload 2"
   ]
  },
  {
   "cell_type": "code",
   "execution_count": 2,
   "metadata": {},
   "outputs": [
    {
     "name": "stdout",
     "output_type": "stream",
     "text": [
      "Train data shape:  (49000, 3073)\n",
      "Train labels shape:  (49000,)\n",
      "Validation data shape:  (1000, 3073)\n",
      "Validation labels shape:  (1000,)\n",
      "Test data shape:  (1000, 3073)\n",
      "Test labels shape:  (1000,)\n",
      "dev data shape:  (500, 3073)\n",
      "dev labels shape:  (500,)\n"
     ]
    }
   ],
   "source": [
    "def get_CIFAR10_data(num_training=49000, num_validation=1000, num_test=1000, num_dev=500):\n",
    "    \"\"\"\n",
    "    Load the CIFAR-10 dataset from disk and perform preprocessing to prepare\n",
    "    it for the linear classifier. These are the same steps as we used for the\n",
    "    SVM, but condensed to a single function.  \n",
    "    \"\"\"\n",
    "    # Load the raw CIFAR-10 data\n",
    "    cifar10_dir = 'cs231n/datasets/cifar-10-batches-py'\n",
    "    \n",
    "    X_train, y_train, X_test, y_test = load_CIFAR10(cifar10_dir)\n",
    "    \n",
    "    # subsample the data\n",
    "    mask = list(range(num_training, num_training + num_validation))\n",
    "    X_val = X_train[mask]\n",
    "    y_val = y_train[mask]\n",
    "    mask = list(range(num_training))\n",
    "    X_train = X_train[mask]\n",
    "    y_train = y_train[mask]\n",
    "    mask = list(range(num_test))\n",
    "    X_test = X_test[mask]\n",
    "    y_test = y_test[mask]\n",
    "    mask = np.random.choice(num_training, num_dev, replace=False)\n",
    "    X_dev = X_train[mask]\n",
    "    y_dev = y_train[mask]\n",
    "    \n",
    "    # Preprocessing: reshape the image data into rows\n",
    "    X_train = np.reshape(X_train, (X_train.shape[0], -1))\n",
    "    X_val = np.reshape(X_val, (X_val.shape[0], -1))\n",
    "    X_test = np.reshape(X_test, (X_test.shape[0], -1))\n",
    "    X_dev = np.reshape(X_dev, (X_dev.shape[0], -1))\n",
    "    \n",
    "    # Normalize the data: subtract the mean image\n",
    "    mean_image = np.mean(X_train, axis = 0)\n",
    "    X_train -= mean_image\n",
    "    X_val -= mean_image\n",
    "    X_test -= mean_image\n",
    "    X_dev -= mean_image\n",
    "    \n",
    "    # add bias dimension and transform into columns\n",
    "    X_train = np.hstack([X_train, np.ones((X_train.shape[0], 1))])\n",
    "    X_val = np.hstack([X_val, np.ones((X_val.shape[0], 1))])\n",
    "    X_test = np.hstack([X_test, np.ones((X_test.shape[0], 1))])\n",
    "    X_dev = np.hstack([X_dev, np.ones((X_dev.shape[0], 1))])\n",
    "    \n",
    "    return X_train, y_train, X_val, y_val, X_test, y_test, X_dev, y_dev\n",
    "\n",
    "\n",
    "# Cleaning up variables to prevent loading data multiple times (which may cause memory issue)\n",
    "try:\n",
    "   del X_train, y_train\n",
    "   del X_test, y_test\n",
    "   print('Clear previously loaded data.')\n",
    "except:\n",
    "   pass\n",
    "\n",
    "# Invoke the above function to get our data.\n",
    "X_train, y_train, X_val, y_val, X_test, y_test, X_dev, y_dev = get_CIFAR10_data()\n",
    "print('Train data shape: ', X_train.shape)\n",
    "print('Train labels shape: ', y_train.shape)\n",
    "print('Validation data shape: ', X_val.shape)\n",
    "print('Validation labels shape: ', y_val.shape)\n",
    "print('Test data shape: ', X_test.shape)\n",
    "print('Test labels shape: ', y_test.shape)\n",
    "print('dev data shape: ', X_dev.shape)\n",
    "print('dev labels shape: ', y_dev.shape)"
   ]
  },
  {
   "cell_type": "markdown",
   "metadata": {},
   "source": [
    "## Softmax Classifier\n",
    "\n",
    "Your code for this section will all be written inside **cs231n/classifiers/softmax.py**. \n"
   ]
  },
  {
   "cell_type": "code",
   "execution_count": 3,
   "metadata": {},
   "outputs": [
    {
     "name": "stdout",
     "output_type": "stream",
     "text": [
      "loss: 2.353791\n",
      "sanity check: 2.302585\n"
     ]
    }
   ],
   "source": [
    "# First implement the naive softmax loss function with nested loops.\n",
    "# Open the file cs231n/classifiers/softmax.py and implement the\n",
    "# softmax_loss_naive function.\n",
    "\n",
    "from cs231n.classifiers.softmax import softmax_loss_naive\n",
    "import time\n",
    "\n",
    "# Generate a random softmax weight matrix and use it to compute the loss.\n",
    "W = np.random.randn(3073, 10) * 0.0001\n",
    "loss, grad = softmax_loss_naive(W, X_dev, y_dev, 0.0)\n",
    "\n",
    "# As a rough sanity check, our loss should be something close to -log(0.1).\n",
    "print('loss: %f' % loss)\n",
    "print('sanity check: %f' % (-np.log(0.1)))"
   ]
  },
  {
   "cell_type": "markdown",
   "metadata": {},
   "source": [
    "## Inline Question 1:\n",
    "Why do we expect our loss to be close to -log(0.1)? Explain briefly.**\n",
    "\n",
    "**Your answer:** *Fill this in*\n"
   ]
  },
  {
   "cell_type": "code",
   "execution_count": 4,
   "metadata": {},
   "outputs": [
    {
     "name": "stdout",
     "output_type": "stream",
     "text": [
      "numerical: -0.454244 analytic: -0.454245, relative error: 1.374907e-07\n",
      "numerical: -0.401958 analytic: -0.401958, relative error: 1.799724e-08\n",
      "numerical: -0.005134 analytic: -0.005134, relative error: 7.531540e-07\n",
      "numerical: -0.136396 analytic: -0.136396, relative error: 1.612075e-07\n",
      "numerical: -0.800811 analytic: -0.800811, relative error: 3.887531e-08\n",
      "numerical: -1.165524 analytic: -1.165524, relative error: 4.366146e-08\n",
      "numerical: -0.429783 analytic: -0.429783, relative error: 1.456235e-08\n",
      "numerical: -1.317792 analytic: -1.317792, relative error: 5.015449e-08\n",
      "numerical: -2.290877 analytic: -2.290877, relative error: 4.126609e-09\n",
      "numerical: 0.731190 analytic: 0.731190, relative error: 1.086880e-07\n",
      "\n",
      "numerical: 0.336444 analytic: 0.336444, relative error: 1.615366e-08\n",
      "numerical: 2.811871 analytic: 2.811871, relative error: 1.456509e-08\n",
      "numerical: 1.270415 analytic: 1.270415, relative error: 2.293672e-08\n",
      "numerical: 4.446821 analytic: 4.446821, relative error: 2.554722e-08\n",
      "numerical: -0.758560 analytic: -0.758560, relative error: 8.399161e-09\n",
      "numerical: 2.144111 analytic: 2.144111, relative error: 1.427863e-09\n",
      "numerical: 1.598362 analytic: 1.598362, relative error: 3.096484e-08\n",
      "numerical: -1.048999 analytic: -1.048999, relative error: 5.205012e-08\n",
      "numerical: -1.986184 analytic: -1.986184, relative error: 1.694684e-08\n",
      "numerical: 1.842140 analytic: 1.842140, relative error: 1.198573e-08\n"
     ]
    }
   ],
   "source": [
    "# Complete the implementation of softmax_loss_naive and implement a (naive)\n",
    "# version of the gradient that uses nested loops.\n",
    "loss, grad = softmax_loss_naive(W, X_dev, y_dev, 0.0)\n",
    "\n",
    "# As we did for the SVM, use numeric gradient checking as a debugging tool.\n",
    "# The numeric gradient should be close to the analytic gradient.\n",
    "from cs231n.gradient_check import grad_check_sparse\n",
    "f = lambda w: softmax_loss_naive(w, X_dev, y_dev, 0.0)[0]\n",
    "grad_numerical = grad_check_sparse(f, W, grad, 10)\n",
    "\n",
    "print()\n",
    "\n",
    "# similar to SVM case, do another gradient check with regularization\n",
    "loss, grad = softmax_loss_naive(W, X_dev, y_dev, 5e1)\n",
    "f = lambda w: softmax_loss_naive(w, X_dev, y_dev, 5e1)[0]\n",
    "grad_numerical = grad_check_sparse(f, W, grad, 10)"
   ]
  },
  {
   "cell_type": "code",
   "execution_count": 5,
   "metadata": {},
   "outputs": [
    {
     "name": "stdout",
     "output_type": "stream",
     "text": [
      "naive loss: 2.353791e+00 computed in 0.092130s\n",
      "vectorized loss: 2.353791e+00 computed in 0.007522s\n",
      "Loss difference: 0.000000\n",
      "Gradient difference: 0.000000\n"
     ]
    }
   ],
   "source": [
    "# Now that we have a naive implementation of the softmax loss function and its gradient,\n",
    "# implement a vectorized version in softmax_loss_vectorized.\n",
    "# The two versions should compute the same results, but the vectorized version should be\n",
    "# much faster.\n",
    "tic = time.time()\n",
    "loss_naive, grad_naive = softmax_loss_naive(W, X_dev, y_dev, 0.000005)\n",
    "toc = time.time()\n",
    "print('naive loss: %e computed in %fs' % (loss_naive, toc - tic))\n",
    "\n",
    "from cs231n.classifiers.softmax import softmax_loss_vectorized\n",
    "tic = time.time()\n",
    "loss_vectorized, grad_vectorized = softmax_loss_vectorized(W, X_dev, y_dev, 0.000005)\n",
    "toc = time.time()\n",
    "print('vectorized loss: %e computed in %fs' % (loss_vectorized, toc - tic))\n",
    "\n",
    "# As we did for the SVM, we use the Frobenius norm to compare the two versions\n",
    "# of the gradient.\n",
    "grad_difference = np.linalg.norm(grad_naive - grad_vectorized, ord='fro')\n",
    "print('Loss difference: %f' % np.abs(loss_naive - loss_vectorized))\n",
    "print('Gradient difference: %f' % grad_difference)"
   ]
  },
  {
   "cell_type": "code",
   "execution_count": 9,
   "metadata": {},
   "outputs": [
    {
     "name": "stdout",
     "output_type": "stream",
     "text": [
      "1e-07\n",
      "5e-07\n",
      "1e-06\n",
      "5e-06\n",
      "1e-05\n",
      "5e-05\n",
      "lr 1.000000e-07 reg 1.000000e+03 train accuracy: 0.269735 val accuracy: 0.265000\n",
      "lr 1.000000e-07 reg 2.500000e+03 train accuracy: 0.289878 val accuracy: 0.296000\n",
      "lr 1.000000e-07 reg 5.000000e+03 train accuracy: 0.331633 val accuracy: 0.318000\n",
      "lr 1.000000e-07 reg 7.500000e+03 train accuracy: 0.350592 val accuracy: 0.366000\n",
      "lr 1.000000e-07 reg 1.000000e+04 train accuracy: 0.355612 val accuracy: 0.366000\n",
      "lr 1.000000e-07 reg 2.500000e+04 train accuracy: 0.330673 val accuracy: 0.346000\n",
      "lr 1.000000e-07 reg 5.000000e+04 train accuracy: 0.301490 val accuracy: 0.318000\n",
      "lr 5.000000e-07 reg 1.000000e+03 train accuracy: 0.391184 val accuracy: 0.400000\n",
      "lr 5.000000e-07 reg 2.500000e+03 train accuracy: 0.386510 val accuracy: 0.384000\n",
      "lr 5.000000e-07 reg 5.000000e+03 train accuracy: 0.372735 val accuracy: 0.378000\n",
      "lr 5.000000e-07 reg 7.500000e+03 train accuracy: 0.362061 val accuracy: 0.382000\n",
      "lr 5.000000e-07 reg 1.000000e+04 train accuracy: 0.357082 val accuracy: 0.371000\n",
      "lr 5.000000e-07 reg 2.500000e+04 train accuracy: 0.320204 val accuracy: 0.330000\n",
      "lr 5.000000e-07 reg 5.000000e+04 train accuracy: 0.311612 val accuracy: 0.323000\n",
      "lr 1.000000e-06 reg 1.000000e+03 train accuracy: 0.395980 val accuracy: 0.412000\n",
      "lr 1.000000e-06 reg 2.500000e+03 train accuracy: 0.384327 val accuracy: 0.395000\n",
      "lr 1.000000e-06 reg 5.000000e+03 train accuracy: 0.373102 val accuracy: 0.386000\n",
      "lr 1.000000e-06 reg 7.500000e+03 train accuracy: 0.356306 val accuracy: 0.363000\n",
      "lr 1.000000e-06 reg 1.000000e+04 train accuracy: 0.344592 val accuracy: 0.364000\n",
      "lr 1.000000e-06 reg 2.500000e+04 train accuracy: 0.334673 val accuracy: 0.346000\n",
      "lr 1.000000e-06 reg 5.000000e+04 train accuracy: 0.307510 val accuracy: 0.324000\n",
      "lr 5.000000e-06 reg 1.000000e+03 train accuracy: 0.342653 val accuracy: 0.315000\n",
      "lr 5.000000e-06 reg 2.500000e+03 train accuracy: 0.350020 val accuracy: 0.363000\n",
      "lr 5.000000e-06 reg 5.000000e+03 train accuracy: 0.286878 val accuracy: 0.280000\n",
      "lr 5.000000e-06 reg 7.500000e+03 train accuracy: 0.272735 val accuracy: 0.276000\n",
      "lr 5.000000e-06 reg 1.000000e+04 train accuracy: 0.260449 val accuracy: 0.264000\n",
      "lr 5.000000e-06 reg 2.500000e+04 train accuracy: 0.231857 val accuracy: 0.237000\n",
      "lr 5.000000e-06 reg 5.000000e+04 train accuracy: 0.146714 val accuracy: 0.138000\n",
      "lr 1.000000e-05 reg 1.000000e+03 train accuracy: 0.294184 val accuracy: 0.289000\n",
      "lr 1.000000e-05 reg 2.500000e+03 train accuracy: 0.256204 val accuracy: 0.270000\n",
      "lr 1.000000e-05 reg 5.000000e+03 train accuracy: 0.199653 val accuracy: 0.206000\n",
      "lr 1.000000e-05 reg 7.500000e+03 train accuracy: 0.189224 val accuracy: 0.201000\n",
      "lr 1.000000e-05 reg 1.000000e+04 train accuracy: 0.125796 val accuracy: 0.136000\n",
      "lr 1.000000e-05 reg 2.500000e+04 train accuracy: 0.166061 val accuracy: 0.159000\n",
      "lr 1.000000e-05 reg 5.000000e+04 train accuracy: 0.072551 val accuracy: 0.050000\n",
      "lr 5.000000e-05 reg 1.000000e+03 train accuracy: 0.125531 val accuracy: 0.131000\n",
      "lr 5.000000e-05 reg 2.500000e+03 train accuracy: 0.209755 val accuracy: 0.219000\n",
      "lr 5.000000e-05 reg 5.000000e+03 train accuracy: 0.135204 val accuracy: 0.123000\n",
      "lr 5.000000e-05 reg 7.500000e+03 train accuracy: 0.104592 val accuracy: 0.108000\n",
      "lr 5.000000e-05 reg 1.000000e+04 train accuracy: 0.073714 val accuracy: 0.077000\n",
      "lr 5.000000e-05 reg 2.500000e+04 train accuracy: 0.100265 val accuracy: 0.087000\n",
      "lr 5.000000e-05 reg 5.000000e+04 train accuracy: 0.100265 val accuracy: 0.087000\n",
      "best validation accuracy achieved during cross-validation: 0.412000\n"
     ]
    }
   ],
   "source": [
    "# Use the validation set to tune hyperparameters (regularization strength and\n",
    "# learning rate). You should experiment with different ranges for the learning\n",
    "# rates and regularization strengths; if you are careful you should be able to\n",
    "# get a classification accuracy of over 0.35 on the validation set.\n",
    "from cs231n.classifiers import Softmax\n",
    "results = {}\n",
    "best_val = -1\n",
    "best_softmax = None\n",
    "learning_rates = [1e-7, 5e-7, 1e-6, 5e-6, 1e-5, 5e-5]\n",
    "regularization_strengths = [1e3, 2.5e3, 5e3, 7.5e3, 1e4, 2.5e4, 5e4]\n",
    "\n",
    "################################################################################\n",
    "# TODO:                                                                        #\n",
    "# Use the validation set to set the learning rate and regularization strength. #\n",
    "# This should be identical to the validation that you did for the SVM; save    #\n",
    "# the best trained softmax classifer in best_softmax.                          #\n",
    "################################################################################\n",
    "\n",
    "for lr in learning_rates:\n",
    "    print(lr)\n",
    "    for reg in regularization_strengths:\n",
    "        model = Softmax()\n",
    "        _ = model.train(X_train, y_train, learning_rate=lr, reg=reg, num_iters=1500)\n",
    "        \n",
    "        y_train_pred = np.mean(y_train == model.predict(X_train))\n",
    "        y_val_pred = np.mean(y_val == model.predict(X_val))\n",
    "        \n",
    "        results[(lr, reg)] = y_train_pred, y_val_pred\n",
    "        \n",
    "        if y_val_pred > best_val:\n",
    "            best_val = y_val_pred\n",
    "            best_softmax = model\n",
    "\n",
    "################################################################################\n",
    "#                              END OF YOUR CODE                                #\n",
    "################################################################################\n",
    "    \n",
    "# Print out results.\n",
    "for lr, reg in sorted(results):\n",
    "    train_accuracy, val_accuracy = results[(lr, reg)]\n",
    "    print('lr %e reg %e train accuracy: %f val accuracy: %f' % (\n",
    "                lr, reg, train_accuracy, val_accuracy))\n",
    "    \n",
    "print('best validation accuracy achieved during cross-validation: %f' % best_val)"
   ]
  },
  {
   "cell_type": "code",
   "execution_count": 10,
   "metadata": {},
   "outputs": [
    {
     "name": "stdout",
     "output_type": "stream",
     "text": [
      "softmax on raw pixels final test set accuracy: 0.380000\n"
     ]
    }
   ],
   "source": [
    "# evaluate on test set\n",
    "# Evaluate the best softmax on test set\n",
    "y_test_pred = best_softmax.predict(X_test)\n",
    "test_accuracy = np.mean(y_test == y_test_pred)\n",
    "print('softmax on raw pixels final test set accuracy: %f' % (test_accuracy, ))"
   ]
  },
  {
   "cell_type": "markdown",
   "metadata": {},
   "source": [
    "**Inline Question** - *True or False*\n",
    "\n",
    "It's possible to add a new datapoint to a training set that would leave the SVM loss unchanged, but this is not the case with the Softmax classifier loss.\n",
    "\n",
    "*Your answer*:\n",
    "\n",
    "*Your explanation*:"
   ]
  },
  {
   "cell_type": "code",
   "execution_count": 11,
   "metadata": {},
   "outputs": [
    {
     "data": {
      "image/png": "[encoded data removed]",
      "text/plain": [
       "<Figure size 432x288 with 10 Axes>"
      ]
     },
     "metadata": {
      "needs_background": "light"
     },
     "output_type": "display_data"
    }
   ],
   "source": [
    "# Visualize the learned weights for each class\n",
    "w = best_softmax.W[:-1,:] # strip out the bias\n",
    "w = w.reshape(32, 32, 3, 10)\n",
    "\n",
    "w_min, w_max = np.min(w), np.max(w)\n",
    "\n",
    "classes = ['plane', 'car', 'bird', 'cat', 'deer', 'dog', 'frog', 'horse', 'ship', 'truck']\n",
    "for i in range(10):\n",
    "    plt.subplot(2, 5, i + 1)\n",
    "    \n",
    "    # Rescale the weights to be between 0 and 255\n",
    "    wimg = 255.0 * (w[:, :, :, i].squeeze() - w_min) / (w_max - w_min)\n",
    "    plt.imshow(wimg.astype('uint8'))\n",
    "    plt.axis('off')\n",
    "    plt.title(classes[i])"
   ]
  },
  {
   "cell_type": "code",
   "execution_count": null,
   "metadata": {},
   "outputs": [],
   "source": []
  }
 ],
 "metadata": {
  "kernelspec": {
   "display_name": "Anastasiia",
   "language": "python",
   "name": "anastasiia"
  },
  "language_info": {
   "codemirror_mode": {
    "name": "ipython",
    "version": 3
   },
   "file_extension": ".py",
   "mimetype": "text/x-python",
   "name": "python",
   "nbconvert_exporter": "python",
   "pygments_lexer": "ipython3",
   "version": "3.6.6"
  }
 },
 "nbformat": 4,
 "nbformat_minor": 1
}
